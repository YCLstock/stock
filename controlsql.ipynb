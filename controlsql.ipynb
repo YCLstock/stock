{
 "cells": [
  {
   "cell_type": "code",
   "execution_count": 8,
   "id": "30dee523",
   "metadata": {
    "scrolled": false
   },
   "outputs": [
    {
     "name": "stdout",
     "output_type": "stream",
     "text": [
      "num : 1\n",
      "symbol : 2330\n",
      "date : 20201107\n",
      "time : 101015\n",
      "open : 441\n",
      "high : 445\n",
      "low : 440\n",
      "close : 443\n",
      "volume :  70 \n"
     ]
    }
   ],
   "source": [
    "import sqlite3\n",
    "\n",
    "# sql DB 直接用路徑，阿記得\\\\\n",
    "conn =  sqlite3.connect('C:\\\\Users\\\\USER\\\\Desktop\\\\興趣自我\\\\資料庫\\\\SQLiteStudio\\\\股票\\\\stockprice.db')\n",
    "\n",
    "# Select\n",
    "cursor = conn.execute('select * from quote where symbol = 2330')\n",
    "col_names = [description[0] for description in cursor.description]\n",
    "\n",
    "for row in cursor:\n",
    "    i = 0\n",
    "    for w in row:\n",
    "        print(str(col_names[i]) + ' : ' + str(w))\n",
    "        i = i + 1\n",
    "        \n",
    "    sk_num = row[0]\n",
    "    sk_symbol = row[1]\n",
    "    sk_date = row[2]\n",
    "    sk_time = row[3]\n",
    "    sk_open = row[4]\n",
    "    sk_high = row[5]\n",
    "    sk_low = row[6]\n",
    "    sk_close = row[7]\n",
    "    sk_volume = row[8]\n",
    "    \n",
    "    i_sk_volume = int(sk_volume) + 10\n",
    "    #處理完上船看看,(更新)\n",
    "    cursorObj = conn.cursor()\n",
    "    cursorObj.execute('UPDATE quote SET volume = \" ' + str(i_sk_volume)+ ' \" where num = ' + str(sk_num))\n",
    "    conn.commit()\n",
    "\n",
    "conn.close()"
   ]
  },
  {
   "cell_type": "code",
   "execution_count": 13,
   "id": "9005a6d0",
   "metadata": {},
   "outputs": [],
   "source": [
    "#Delete \n",
    "#sk_time = '102005' 用變數改要刪的地方\n",
    "conn =  sqlite3.connect('C:\\\\Users\\\\USER\\\\Desktop\\\\興趣自我\\\\資料庫\\\\SQLiteStudio\\\\股票\\\\stockprice.db')\n",
    "conn.execute('DELETE from quote where time = ? ',(sk_time,))\n",
    "conn.commit()\n",
    "conn.close()"
   ]
  },
  {
   "cell_type": "code",
   "execution_count": 10,
   "id": "bb652c11",
   "metadata": {},
   "outputs": [],
   "source": [
    "#上傳 \n",
    "conn =  sqlite3.connect('C:\\\\Users\\\\USER\\\\Desktop\\\\興趣自我\\\\資料庫\\\\SQLiteStudio\\\\股票\\\\stockprice.db')\n",
    "#用變數改要上船的地方\n",
    "sk_symbol = '2430'\n",
    "sk_date = '201112'\n",
    "sk_time = '102005'\n",
    "sk_open = '140'\n",
    "sk_high = '200'\n",
    "sk_low = '100'\n",
    "sk_close = '120'\n",
    "sk_volume = '70'\n",
    "conn.execute('INSERT INTO quote (symbol,date,time,open,high,low,close,volume) values(?,?,?,?,?,?,?,?)' , (sk_symbol,sk_date,sk_time,sk_open,sk_high,sk_low,sk_close,sk_volume))\n",
    "conn.commit()\n",
    "conn.close()"
   ]
  }
 ],
 "metadata": {
  "kernelspec": {
   "display_name": "Python 3 (ipykernel)",
   "language": "python",
   "name": "python3"
  },
  "language_info": {
   "codemirror_mode": {
    "name": "ipython",
    "version": 3
   },
   "file_extension": ".py",
   "mimetype": "text/x-python",
   "name": "python",
   "nbconvert_exporter": "python",
   "pygments_lexer": "ipython3",
   "version": "3.9.7"
  }
 },
 "nbformat": 4,
 "nbformat_minor": 5
}
